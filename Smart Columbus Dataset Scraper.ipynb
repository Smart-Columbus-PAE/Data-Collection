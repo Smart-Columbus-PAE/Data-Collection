{
 "cells": [
  {
   "cell_type": "code",
   "execution_count": 2,
   "metadata": {},
   "outputs": [],
   "source": [
    "# import the necessary libraries\n",
    "%matplotlib inline\n",
    "import numpy as np\n",
    "import scipy as sp\n",
    "import matplotlib as mpl\n",
    "import matplotlib.cm as cm\n",
    "import matplotlib.pyplot as plt\n",
    "import pandas as pd\n",
    "import time\n",
    "pd.set_option('display.width', 500)\n",
    "pd.set_option('display.max_columns', 100)\n",
    "pd.set_option('display.notebook_repr_html', True)\n",
    "import seaborn as sns\n",
    "from bs4 import BeautifulSoup\n",
    "import requests"
   ]
  },
  {
   "cell_type": "code",
   "execution_count": 3,
   "metadata": {},
   "outputs": [
    {
     "name": "stdout",
     "output_type": "stream",
     "text": [
      "200\n"
     ]
    }
   ],
   "source": [
    "my_page = requests.get(\n",
    "    \"https://discovery.smartcolumbusos.com/?apiAccessible=true\")\n",
    "print(my_page.status_code) #200\n",
    "#print(my_page.text) #prints whole output in byte format\n",
    "#print(my_page.content) #prints whole output in unicode format"
   ]
  },
  {
   "cell_type": "code",
   "execution_count": 4,
   "metadata": {},
   "outputs": [],
   "source": [
    "soup = BeautifulSoup(my_page.content, 'html.parser')"
   ]
  },
  {
   "cell_type": "code",
   "execution_count": 8,
   "metadata": {},
   "outputs": [
    {
     "name": "stdout",
     "output_type": "stream",
     "text": [
      "<!DOCTYPE html>\n",
      "<html lang=\"en\">\n",
      " <head>\n",
      "  <meta charset=\"utf-8\">\n",
      "   <meta content=\"width=device-width, initial-scale=1.0\" name=\"viewport\">\n",
      "    <meta content=\"ie=edge\" http-equiv=\"X-UA-Compatible\">\n",
      "     <title>\n",
      "      Datasets\n",
      "     </title>\n",
      "     <link href=\"/favicon.ico\" rel=\"shortcut icon\">\n",
      "      <link href=\"/2.a2f92c14aae5885c4b7f.css\" rel=\"stylesheet\">\n",
      "       <link href=\"/0.a2f92c14aae5885c4b7f.css\" rel=\"stylesheet\"/>\n",
      "      </link>\n",
      "     </link>\n",
      "    </meta>\n",
      "   </meta>\n",
      "  </meta>\n",
      " </head>\n",
      " <body>\n",
      "  <section id=\"root\">\n",
      "  </section>\n",
      "  <script src=\"/config.js\" type=\"text/javascript\">\n",
      "  </script>\n",
      "  <script src=\"/runtime.7680e7c1a7a03ac628f9.js\" type=\"text/javascript\">\n",
      "  </script>\n",
      "  <script src=\"/vendors.87491822db874fe28883.js\" type=\"text/javascript\">\n",
      "  </script>\n",
      "  <script src=\"/main.1da5c23e77dccdde435d.js\" type=\"text/javascript\">\n",
      "  </script>\n",
      " </body>\n",
      "</html>\n",
      "\n"
     ]
    }
   ],
   "source": [
    "print (soup.prettify()[:])"
   ]
  },
  {
   "cell_type": "code",
   "execution_count": 117,
   "metadata": {
    "scrolled": true
   },
   "outputs": [
    {
     "name": "stderr",
     "output_type": "stream",
     "text": [
      "/anaconda3/lib/python3.7/site-packages/ipykernel_launcher.py:10: DeprecationWarning: use options instead of chrome_options\n",
      "  # Remove the CWD from sys.path while we load stuff.\n"
     ]
    },
    {
     "name": "stdout",
     "output_type": "stream",
     "text": [
      "5  pages scraped,  50  datasets collected\n",
      "10  pages scraped,  100  datasets collected\n",
      "15  pages scraped,  150  datasets collected\n",
      "20  pages scraped,  200  datasets collected\n"
     ]
    }
   ],
   "source": [
    "from selenium import webdriver\n",
    "import time\n",
    "from selenium.webdriver.chrome.options import Options\n",
    "\n",
    "\n",
    "options = Options()\n",
    "options.headless = True\n",
    "\n",
    "EXE_PATH = r'/Applications/chromedriver'\n",
    "driver = webdriver.Chrome(executable_path=EXE_PATH, chrome_options=options)\n",
    "driver.set_window_size(1440, 900)\n",
    "driver.get('https://discovery.smartcolumbusos.com/?apiAccessible=true')\n",
    "time.sleep(5)\n",
    "soup = driver.page_source\n",
    "\n",
    "last_modified= []\n",
    "file_type = []\n",
    "description = []\n",
    "url_final = []\n",
    "title_final =[]\n",
    "\n",
    "\n",
    "j=0\n",
    "while j<22:\n",
    "    url_temp = []\n",
    "    title_temp = []\n",
    "\n",
    "\n",
    "    for a in driver.find_elements_by_xpath('.//a'):\n",
    "        url_temp.append(str(a.get_attribute('href')))\n",
    "        title_temp.append(str(a.text))\n",
    "\n",
    "    for a in driver.find_elements_by_xpath(\".//div[@class='last-modified']\"):\n",
    "        last_modified.append(str(a.text))\n",
    "    \n",
    "    time.sleep(5)\n",
    "    \n",
    "    for a in driver.find_elements_by_xpath(\".//span[@class='file-type']\"):\n",
    "        file_type.append(str(a.text))\n",
    "\n",
    "    for a in driver.find_elements_by_xpath(\".//div[@class='description']\"):\n",
    "        description.append(str(a.text))\n",
    "\n",
    "    z=0\n",
    "    for x, y in zip(url_temp[12:32], title_temp[12:32]):\n",
    "        z+=1\n",
    "        if z%2 == 0:\n",
    "            url_final.append(x)\n",
    "            title_final.append(y)\n",
    "            \n",
    "    y = driver.find_elements_by_tag_name(\"button\")\n",
    "\n",
    "    z=0\n",
    "    for x in y:\n",
    "        z+=1\n",
    "        if z==9:\n",
    "            x.click()\n",
    "    time.sleep(5)\n",
    "    j+=1\n",
    "    if j%5==0:\n",
    "        print(str(j),\" pages scraped, \", str(len(url_final)), \" datasets collected\")\n",
    "\n",
    "\n",
    "\n",
    "driver.close()"
   ]
  },
  {
   "cell_type": "code",
   "execution_count": 118,
   "metadata": {},
   "outputs": [
    {
     "name": "stdout",
     "output_type": "stream",
     "text": [
      "217\n",
      "217\n",
      "214\n",
      "214\n",
      "214\n"
     ]
    }
   ],
   "source": [
    "print(len(url_final))\n",
    "print(len(title_final))\n",
    "print(len(file_type))\n",
    "print(len(last_modified))\n",
    "print(len(description))"
   ]
  },
  {
   "cell_type": "code",
   "execution_count": 122,
   "metadata": {},
   "outputs": [],
   "source": [
    "url_final=url_final[:-3]\n",
    "title_final=title_final[:-3]"
   ]
  },
  {
   "cell_type": "code",
   "execution_count": 123,
   "metadata": {},
   "outputs": [],
   "source": [
    "df = pd.DataFrame({\n",
    "    'Title':title_final,\n",
    "    'File Type':file_type,\n",
    "    'Last Modified Date':last_modified,\n",
    "    'Description':description,\n",
    "    'URL':url_final\n",
    "}) "
   ]
  },
  {
   "cell_type": "code",
   "execution_count": 145,
   "metadata": {},
   "outputs": [],
   "source": [
    "agency = []\n",
    "for x in df['URL']:\n",
    "    y = x[46:]\n",
    "    z=y[:y.find(\"/\")]\n",
    "    agency.append(z)\n",
    "    \n",
    "df['Agency']=agency\n",
    "\n",
    "new_dates = []\n",
    "for x in df['Last Modified Date']:\n",
    "    y = x[:12]\n",
    "    if y == \"Date not pro\":\n",
    "        y=\"\"\n",
    "    new_dates.append(y)\n",
    "\n",
    "df['Last Modified Date']=new_dates"
   ]
  },
  {
   "cell_type": "code",
   "execution_count": 146,
   "metadata": {},
   "outputs": [
    {
     "data": {
      "text/html": [
       "<div>\n",
       "<style scoped>\n",
       "    .dataframe tbody tr th:only-of-type {\n",
       "        vertical-align: middle;\n",
       "    }\n",
       "\n",
       "    .dataframe tbody tr th {\n",
       "        vertical-align: top;\n",
       "    }\n",
       "\n",
       "    .dataframe thead th {\n",
       "        text-align: right;\n",
       "    }\n",
       "</style>\n",
       "<table border=\"1\" class=\"dataframe\">\n",
       "  <thead>\n",
       "    <tr style=\"text-align: right;\">\n",
       "      <th></th>\n",
       "      <th>Title</th>\n",
       "      <th>File Type</th>\n",
       "      <th>Last Modified Date</th>\n",
       "      <th>Description</th>\n",
       "      <th>URL</th>\n",
       "      <th>Agency</th>\n",
       "    </tr>\n",
       "  </thead>\n",
       "  <tbody>\n",
       "    <tr>\n",
       "      <th>0</th>\n",
       "      <td>Age and Sex Demographics at Census Tract Level...</td>\n",
       "      <td>CSV</td>\n",
       "      <td>May 2, 2018</td>\n",
       "      <td>This dataset identifies the age data categoriz...</td>\n",
       "      <td>https://discovery.smartcolumbusos.com/dataset/...</td>\n",
       "      <td>united_states_census_bureau</td>\n",
       "    </tr>\n",
       "    <tr>\n",
       "      <th>1</th>\n",
       "      <td>Aggregated Travel Time to Work - Central Ohio ...</td>\n",
       "      <td>CSV</td>\n",
       "      <td>May 2, 2018</td>\n",
       "      <td>This dataset identifies the aggregated travel ...</td>\n",
       "      <td>https://discovery.smartcolumbusos.com/dataset/...</td>\n",
       "      <td>united_states_census_bureau</td>\n",
       "    </tr>\n",
       "    <tr>\n",
       "      <th>2</th>\n",
       "      <td>Behavioral Risk Factor Surveillance System (BR...</td>\n",
       "      <td>CSV</td>\n",
       "      <td>Feb 26, 2018</td>\n",
       "      <td>2011 to present. BRFSS combined land line and ...</td>\n",
       "      <td>https://discovery.smartcolumbusos.com/dataset/...</td>\n",
       "      <td>center_for_disease_control</td>\n",
       "    </tr>\n",
       "    <tr>\n",
       "      <th>3</th>\n",
       "      <td>Bridge Inventory -- WGIS</td>\n",
       "      <td>CSV</td>\n",
       "      <td>Apr 9, 2018</td>\n",
       "      <td>This dataset identifies the ODOT maintained br...</td>\n",
       "      <td>https://discovery.smartcolumbusos.com/dataset/...</td>\n",
       "      <td>odot</td>\n",
       "    </tr>\n",
       "    <tr>\n",
       "      <th>4</th>\n",
       "      <td>Cell Coverage Dark Spots - Columbus 2018 -- Ur...</td>\n",
       "      <td>CSV</td>\n",
       "      <td>May 2, 2018</td>\n",
       "      <td>This Geotab dataset is intended to show where ...</td>\n",
       "      <td>https://discovery.smartcolumbusos.com/dataset/...</td>\n",
       "      <td>geotab</td>\n",
       "    </tr>\n",
       "  </tbody>\n",
       "</table>\n",
       "</div>"
      ],
      "text/plain": [
       "                                               Title File Type Last Modified Date                                        Description                                                URL                       Agency\n",
       "0  Age and Sex Demographics at Census Tract Level...       CSV       May 2, 2018   This dataset identifies the age data categoriz...  https://discovery.smartcolumbusos.com/dataset/...  united_states_census_bureau\n",
       "1  Aggregated Travel Time to Work - Central Ohio ...       CSV       May 2, 2018   This dataset identifies the aggregated travel ...  https://discovery.smartcolumbusos.com/dataset/...  united_states_census_bureau\n",
       "2  Behavioral Risk Factor Surveillance System (BR...       CSV       Feb 26, 2018  2011 to present. BRFSS combined land line and ...  https://discovery.smartcolumbusos.com/dataset/...   center_for_disease_control\n",
       "3                           Bridge Inventory -- WGIS       CSV       Apr 9, 2018   This dataset identifies the ODOT maintained br...  https://discovery.smartcolumbusos.com/dataset/...                         odot\n",
       "4  Cell Coverage Dark Spots - Columbus 2018 -- Ur...       CSV       May 2, 2018   This Geotab dataset is intended to show where ...  https://discovery.smartcolumbusos.com/dataset/...                       geotab"
      ]
     },
     "execution_count": 146,
     "metadata": {},
     "output_type": "execute_result"
    }
   ],
   "source": [
    "df.head()"
   ]
  },
  {
   "cell_type": "code",
   "execution_count": 147,
   "metadata": {},
   "outputs": [],
   "source": [
    "df.to_excel(\"Smart Columbus API data sources.xlsx\", index=False)"
   ]
  }
 ],
 "metadata": {
  "kernelspec": {
   "display_name": "Python 3",
   "language": "python",
   "name": "python3"
  },
  "language_info": {
   "codemirror_mode": {
    "name": "ipython",
    "version": 3
   },
   "file_extension": ".py",
   "mimetype": "text/x-python",
   "name": "python",
   "nbconvert_exporter": "python",
   "pygments_lexer": "ipython3",
   "version": "3.7.1"
  }
 },
 "nbformat": 4,
 "nbformat_minor": 2
}
