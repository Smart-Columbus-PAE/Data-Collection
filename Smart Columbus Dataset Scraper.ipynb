{
 "cells": [
  {
   "cell_type": "code",
   "execution_count": 1,
   "metadata": {},
   "outputs": [],
   "source": [
    "# import the necessary libraries\n",
    "%matplotlib inline\n",
    "import numpy as np\n",
    "import scipy as sp\n",
    "import matplotlib as mpl\n",
    "import matplotlib.cm as cm\n",
    "import matplotlib.pyplot as plt\n",
    "import pandas as pd\n",
    "import time\n",
    "pd.set_option('display.width', 500)\n",
    "pd.set_option('display.max_columns', 100)\n",
    "pd.set_option('display.notebook_repr_html', True)\n",
    "import seaborn as sns\n",
    "from bs4 import BeautifulSoup\n",
    "import requests"
   ]
  },
  {
   "cell_type": "code",
   "execution_count": 2,
   "metadata": {},
   "outputs": [
    {
     "name": "stdout",
     "output_type": "stream",
     "text": [
      "200\n"
     ]
    }
   ],
   "source": [
    "my_page = requests.get(\n",
    "    \"https://discovery.smartcolumbusos.com/?apiAccessible=true\")\n",
    "print(my_page.status_code) #200\n",
    "#print(my_page.text) #prints whole output in byte format\n",
    "#print(my_page.content) #prints whole output in unicode format"
   ]
  },
  {
   "cell_type": "code",
   "execution_count": 4,
   "metadata": {},
   "outputs": [],
   "source": [
    "soup = BeautifulSoup(my_page.content, 'html.parser')"
   ]
  },
  {
   "cell_type": "code",
   "execution_count": 8,
   "metadata": {},
   "outputs": [
    {
     "name": "stdout",
     "output_type": "stream",
     "text": [
      "<!DOCTYPE html>\n",
      "<html lang=\"en\">\n",
      " <head>\n",
      "  <meta charset=\"utf-8\">\n",
      "   <meta content=\"width=device-width, initial-scale=1.0\" name=\"viewport\">\n",
      "    <meta content=\"ie=edge\" http-equiv=\"X-UA-Compatible\">\n",
      "     <title>\n",
      "      Datasets\n",
      "     </title>\n",
      "     <link href=\"/favicon.ico\" rel=\"shortcut icon\">\n",
      "      <link href=\"/2.a2f92c14aae5885c4b7f.css\" rel=\"stylesheet\">\n",
      "       <link href=\"/0.a2f92c14aae5885c4b7f.css\" rel=\"stylesheet\"/>\n",
      "      </link>\n",
      "     </link>\n",
      "    </meta>\n",
      "   </meta>\n",
      "  </meta>\n",
      " </head>\n",
      " <body>\n",
      "  <section id=\"root\">\n",
      "  </section>\n",
      "  <script src=\"/config.js\" type=\"text/javascript\">\n",
      "  </script>\n",
      "  <script src=\"/runtime.7680e7c1a7a03ac628f9.js\" type=\"text/javascript\">\n",
      "  </script>\n",
      "  <script src=\"/vendors.87491822db874fe28883.js\" type=\"text/javascript\">\n",
      "  </script>\n",
      "  <script src=\"/main.1da5c23e77dccdde435d.js\" type=\"text/javascript\">\n",
      "  </script>\n",
      " </body>\n",
      "</html>\n",
      "\n"
     ]
    }
   ],
   "source": [
    "print (soup.prettify()[:])"
   ]
  },
  {
   "cell_type": "code",
   "execution_count": null,
   "metadata": {},
   "outputs": [],
   "source": [
    "'https://discovery.smartcolumbusos.com/?apiAccessible=true'"
   ]
  },
  {
   "cell_type": "code",
   "execution_count": 120,
   "metadata": {},
   "outputs": [],
   "source": [
    "df = pd.read_excel(\"Smart Columbus API data sources.xlsx\")"
   ]
  },
  {
   "cell_type": "code",
   "execution_count": 88,
   "metadata": {
    "scrolled": true
   },
   "outputs": [],
   "source": [
    "def webscrape(site):\n",
    "\n",
    "    from selenium import webdriver\n",
    "    import time\n",
    "    from selenium.webdriver.chrome.options import Options\n",
    "    import re\n",
    "\n",
    "\n",
    "    options = Options()\n",
    "    options.headless = True\n",
    "\n",
    "    EXE_PATH = r'/Applications/chromedriver'\n",
    "    driver = webdriver.Chrome(executable_path=EXE_PATH, options=options)\n",
    "    driver.set_window_size(1440, 900)\n",
    "    driver.get(site)\n",
    "    time.sleep(5)\n",
    "\n",
    "    last_modified= []\n",
    "    file_type = []\n",
    "    description = []\n",
    "    url_final = []\n",
    "    title_final =[]\n",
    "\n",
    "    for a in driver.find_elements_by_xpath(\".//div[@class='result-count']\"):\n",
    "        num = str(a.text)\n",
    "    num = re.sub(\"[^0-9]\", \"\", num)\n",
    "    num2 = round(int(num)/10,0)+1\n",
    "    j=0\n",
    "    \n",
    "    for x in range(1,int(num2)):\n",
    "\n",
    "        site = website+str(x)\n",
    "        url_temp = []\n",
    "        title_temp = []\n",
    "        \n",
    "        driver.get(site)\n",
    "        time.sleep(5)\n",
    "        z=0\n",
    "        for a in driver.find_elements_by_class_name('title'):\n",
    "            z+=1\n",
    "            if z>1:\n",
    "                url_final.append(str(a.get_attribute('href')))\n",
    "                title_final.append(str(a.text))\n",
    "\n",
    "        for a in driver.find_elements_by_xpath(\".//div[@class='last-modified']\"):\n",
    "            last_modified.append(str(a.text))\n",
    "\n",
    "        for a in driver.find_elements_by_xpath(\".//span[@class='file-type']\"):\n",
    "            file_type.append(str(a.text))\n",
    "\n",
    "        for a in driver.find_elements_by_xpath(\".//div[@class='description']\"):\n",
    "            description.append(str(a.text))\n",
    "        \n",
    "        time.sleep(5)\n",
    "        j+=1\n",
    "        if j%20==0:\n",
    "            print(str(j),\" pages scraped, \", str(len(url_final)), \" datasets collected\")\n",
    "\n",
    "    driver.close()\n",
    "    return     last_modified, file_type , description , url_final ,title_final\n",
    "\n"
   ]
  },
  {
   "cell_type": "code",
   "execution_count": 97,
   "metadata": {},
   "outputs": [
    {
     "name": "stdout",
     "output_type": "stream",
     "text": [
      "20  pages scraped,  200  datasets collected\n",
      "40  pages scraped,  400  datasets collected\n",
      "60  pages scraped,  600  datasets collected\n"
     ]
    },
    {
     "ename": "NameError",
     "evalue": "name 'j' is not defined",
     "output_type": "error",
     "traceback": [
      "\u001b[0;31m---------------------------------------------------------------------------\u001b[0m",
      "\u001b[0;31mNameError\u001b[0m                                 Traceback (most recent call last)",
      "\u001b[0;32m<ipython-input-97-50eef19eccfb>\u001b[0m in \u001b[0;36m<module>\u001b[0;34m\u001b[0m\n\u001b[1;32m      1\u001b[0m \u001b[0;32mfor\u001b[0m \u001b[0mx\u001b[0m \u001b[0;32min\u001b[0m \u001b[0;34m[\u001b[0m\u001b[0;34m'https://discovery.smartcolumbusos.com/?q=&sort=name_asc&apiAccessible=true&page=1'\u001b[0m\u001b[0;34m]\u001b[0m\u001b[0;34m:\u001b[0m\u001b[0;34m\u001b[0m\u001b[0;34m\u001b[0m\u001b[0m\n\u001b[1;32m      2\u001b[0m     \u001b[0mlast_modified\u001b[0m\u001b[0;34m,\u001b[0m \u001b[0mfile_type\u001b[0m \u001b[0;34m,\u001b[0m \u001b[0mdescription\u001b[0m \u001b[0;34m,\u001b[0m \u001b[0murl_final\u001b[0m \u001b[0;34m,\u001b[0m\u001b[0mtitle_final\u001b[0m \u001b[0;34m=\u001b[0m \u001b[0mwebscrape\u001b[0m\u001b[0;34m(\u001b[0m\u001b[0mx\u001b[0m\u001b[0;34m)\u001b[0m\u001b[0;34m\u001b[0m\u001b[0;34m\u001b[0m\u001b[0m\n\u001b[0;32m----> 3\u001b[0;31m     \u001b[0mprint\u001b[0m\u001b[0;34m(\u001b[0m\u001b[0;34m\"Dataset done:\"\u001b[0m\u001b[0;34m,\u001b[0m\u001b[0mstr\u001b[0m\u001b[0;34m(\u001b[0m\u001b[0mj\u001b[0m\u001b[0;34m)\u001b[0m\u001b[0;34m,\u001b[0m\u001b[0;34m\" pages scraped, \"\u001b[0m\u001b[0;34m,\u001b[0m \u001b[0mstr\u001b[0m\u001b[0;34m(\u001b[0m\u001b[0mlen\u001b[0m\u001b[0;34m(\u001b[0m\u001b[0murl_final\u001b[0m\u001b[0;34m)\u001b[0m\u001b[0;34m)\u001b[0m\u001b[0;34m,\u001b[0m \u001b[0;34m\" datasets collected\"\u001b[0m\u001b[0;34m)\u001b[0m\u001b[0;34m\u001b[0m\u001b[0;34m\u001b[0m\u001b[0m\n\u001b[0m\u001b[1;32m      4\u001b[0m \u001b[0;34m\u001b[0m\u001b[0m\n\u001b[1;32m      5\u001b[0m     df_temp = pd.DataFrame({\n",
      "\u001b[0;31mNameError\u001b[0m: name 'j' is not defined"
     ]
    }
   ],
   "source": [
    "from datetime import date\n",
    "\n",
    "for x in ['https://discovery.smartcolumbusos.com/?q=&sort=name_asc&apiAccessible=true&page=1',\n",
    "         'https://discovery.smartcolumbusos.com/?q=&sort=name_asc&apiAccessible=false&page=1']:\n",
    "    last_modified, file_type , description , url_final ,title_final = webscrape(x)\n",
    "\n",
    "    df_temp = pd.DataFrame({\n",
    "        'Title':title_final,\n",
    "        'File Type':file_type,\n",
    "        'Last Modified Date':last_modified,\n",
    "        'Description':description,\n",
    "        'URL':url_final\n",
    "    }) \n",
    "    \n",
    "    agency = []\n",
    "    new_dates = []\n",
    "\n",
    "    for x in df_temp['URL']:\n",
    "        y = x[46:]\n",
    "        z=y[:y.find(\"/\")]\n",
    "        agency.append(z)\n",
    "\n",
    "    for x in df_temp['Last Modified Date']:\n",
    "        y = x[:12]\n",
    "        if y == \"Date not pro\":\n",
    "            y=\"\"\n",
    "        if y == \"Updates to r\":\n",
    "            y=\"\"\n",
    "        new_dates.append(y)\n",
    "    \n",
    "    df_temp['Agency']=agency    \n",
    "    df_temp['Last Modified Date New']=new_dates\n",
    "    df_temp['date pulled']=date.today()\n",
    "    \n",
    "    df=df.append(df_temp)\n",
    "    print(\"done\")"
   ]
  },
  {
   "cell_type": "code",
   "execution_count": 109,
   "metadata": {},
   "outputs": [
    {
     "data": {
      "text/plain": [
       "3800"
      ]
     },
     "execution_count": 109,
     "metadata": {},
     "output_type": "execute_result"
    }
   ],
   "source": [
    "len(df)"
   ]
  },
  {
   "cell_type": "code",
   "execution_count": 117,
   "metadata": {
    "scrolled": false
   },
   "outputs": [
    {
     "data": {
      "text/html": [
       "<div>\n",
       "<style scoped>\n",
       "    .dataframe tbody tr th:only-of-type {\n",
       "        vertical-align: middle;\n",
       "    }\n",
       "\n",
       "    .dataframe tbody tr th {\n",
       "        vertical-align: top;\n",
       "    }\n",
       "\n",
       "    .dataframe thead th {\n",
       "        text-align: right;\n",
       "    }\n",
       "</style>\n",
       "<table border=\"1\" class=\"dataframe\">\n",
       "  <thead>\n",
       "    <tr style=\"text-align: right;\">\n",
       "      <th></th>\n",
       "      <th>Agency</th>\n",
       "      <th>Description</th>\n",
       "      <th>File Type</th>\n",
       "      <th>Last Modified Date</th>\n",
       "      <th>Last Modified Date New</th>\n",
       "      <th>Title</th>\n",
       "      <th>URL</th>\n",
       "      <th>date pulled</th>\n",
       "    </tr>\n",
       "  </thead>\n",
       "  <tbody>\n",
       "    <tr>\n",
       "      <th>0</th>\n",
       "      <td>ogrip</td>\n",
       "      <td>Cuyahoga County Planning Commission's Greenpri...</td>\n",
       "      <td>CSV</td>\n",
       "      <td>Updates to remote datasets are not tracked</td>\n",
       "      <td>Updates to r</td>\n",
       "      <td>100 Year Flood Plain -- CSV</td>\n",
       "      <td>https://discovery.smartcolumbusos.com/dataset/...</td>\n",
       "      <td>2019-11-06</td>\n",
       "    </tr>\n",
       "    <tr>\n",
       "      <th>1</th>\n",
       "      <td>ogrip</td>\n",
       "      <td>Cuyahoga County Planning Commission's Greenpri...</td>\n",
       "      <td>GEOJSON</td>\n",
       "      <td>Updates to remote datasets are not tracked</td>\n",
       "      <td>Updates to r</td>\n",
       "      <td>100 Year Flood Plain -- GeoJSON</td>\n",
       "      <td>https://discovery.smartcolumbusos.com/dataset/...</td>\n",
       "      <td>2019-11-06</td>\n",
       "    </tr>\n",
       "    <tr>\n",
       "      <th>2</th>\n",
       "      <td>ogrip</td>\n",
       "      <td>Cuyahoga County Planning Commission's Greenpri...</td>\n",
       "      <td>KML</td>\n",
       "      <td>Updates to remote datasets are not tracked</td>\n",
       "      <td>Updates to r</td>\n",
       "      <td>100 Year Flood Plain -- KML</td>\n",
       "      <td>https://discovery.smartcolumbusos.com/dataset/...</td>\n",
       "      <td>2019-11-06</td>\n",
       "    </tr>\n",
       "    <tr>\n",
       "      <th>3</th>\n",
       "      <td>ogrip</td>\n",
       "      <td>Cuyahoga County Planning Commission's Greenpri...</td>\n",
       "      <td>OGC WMS</td>\n",
       "      <td>Updates to remote datasets are not tracked</td>\n",
       "      <td>Updates to r</td>\n",
       "      <td>100 Year Flood Plain -- OGC WMS</td>\n",
       "      <td>https://discovery.smartcolumbusos.com/dataset/...</td>\n",
       "      <td>2019-11-06</td>\n",
       "    </tr>\n",
       "    <tr>\n",
       "      <th>4</th>\n",
       "      <td>ogrip</td>\n",
       "      <td>Cuyahoga County Planning Commission's Greenpri...</td>\n",
       "      <td>SHAPEFILE</td>\n",
       "      <td>Date not provided</td>\n",
       "      <td>NaN</td>\n",
       "      <td>100 Year Flood Plain -- Shapefile</td>\n",
       "      <td>https://discovery.smartcolumbusos.com/dataset/...</td>\n",
       "      <td>2019-11-06</td>\n",
       "    </tr>\n",
       "  </tbody>\n",
       "</table>\n",
       "</div>"
      ],
      "text/plain": [
       "  Agency                                        Description  File Type                          Last Modified Date Last Modified Date New                              Title                                                URL date pulled\n",
       "0  ogrip  Cuyahoga County Planning Commission's Greenpri...        CSV  Updates to remote datasets are not tracked           Updates to r        100 Year Flood Plain -- CSV  https://discovery.smartcolumbusos.com/dataset/...  2019-11-06\n",
       "1  ogrip  Cuyahoga County Planning Commission's Greenpri...    GEOJSON  Updates to remote datasets are not tracked           Updates to r    100 Year Flood Plain -- GeoJSON  https://discovery.smartcolumbusos.com/dataset/...  2019-11-06\n",
       "2  ogrip  Cuyahoga County Planning Commission's Greenpri...        KML  Updates to remote datasets are not tracked           Updates to r        100 Year Flood Plain -- KML  https://discovery.smartcolumbusos.com/dataset/...  2019-11-06\n",
       "3  ogrip  Cuyahoga County Planning Commission's Greenpri...    OGC WMS  Updates to remote datasets are not tracked           Updates to r    100 Year Flood Plain -- OGC WMS  https://discovery.smartcolumbusos.com/dataset/...  2019-11-06\n",
       "4  ogrip  Cuyahoga County Planning Commission's Greenpri...  SHAPEFILE                           Date not provided                    NaN  100 Year Flood Plain -- Shapefile  https://discovery.smartcolumbusos.com/dataset/...  2019-11-06"
      ]
     },
     "execution_count": 117,
     "metadata": {},
     "output_type": "execute_result"
    }
   ],
   "source": [
    "df.head()"
   ]
  },
  {
   "cell_type": "code",
   "execution_count": 113,
   "metadata": {},
   "outputs": [
    {
     "data": {
      "text/plain": [
       "ogrip                                   3217\n",
       "city_of_columbus                         200\n",
       "morpc                                    111\n",
       "central_ohio_transit_authority            54\n",
       "odot                                      45\n",
       "handson_central_ohio                      36\n",
       "may_mobility                              20\n",
       "united_states_census_bureau               17\n",
       "ohio_department_of_health                 14\n",
       "aashto                                    14\n",
       "geotab                                    14\n",
       "urban_regional_analysis                    8\n",
       "us_dept_agriculture                        8\n",
       "ips_group                                  6\n",
       "columbus_public_health                     5\n",
       "conduent                                   4\n",
       "mid_ohio_food_bank                         3\n",
       "center_for_disease_control                 3\n",
       "noaa                                       2\n",
       "cogo                                       2\n",
       "franklin_cnty_municipal_court              2\n",
       "kirwan_institute                           2\n",
       "scos                                       1\n",
       "aspe                                       1\n",
       "mid_america_assc_trnsprt_ofls              1\n",
       "fresh_foods_here                           1\n",
       "honda                                      1\n",
       "nrel                                       1\n",
       "usgs                                       1\n",
       "yellow_cab                                 1\n",
       "us_energy_information_administration       1\n",
       "data_gov                                   1\n",
       "pivot                                      1\n",
       "produce_perks                              1\n",
       "able-link                                  1\n",
       "Name: Agency, dtype: int64"
      ]
     },
     "execution_count": 113,
     "metadata": {},
     "output_type": "execute_result"
    }
   ],
   "source": [
    "df.Agency.value_counts()"
   ]
  },
  {
   "cell_type": "code",
   "execution_count": 121,
   "metadata": {},
   "outputs": [
    {
     "data": {
      "text/html": [
       "<div>\n",
       "<style scoped>\n",
       "    .dataframe tbody tr th:only-of-type {\n",
       "        vertical-align: middle;\n",
       "    }\n",
       "\n",
       "    .dataframe tbody tr th {\n",
       "        vertical-align: top;\n",
       "    }\n",
       "\n",
       "    .dataframe thead th {\n",
       "        text-align: right;\n",
       "    }\n",
       "</style>\n",
       "<table border=\"1\" class=\"dataframe\">\n",
       "  <thead>\n",
       "    <tr style=\"text-align: right;\">\n",
       "      <th></th>\n",
       "      <th>Agency</th>\n",
       "      <th>Description</th>\n",
       "      <th>File Type</th>\n",
       "      <th>Last Modified Date</th>\n",
       "      <th>Last Modified Date New</th>\n",
       "      <th>Title</th>\n",
       "      <th>URL</th>\n",
       "      <th>date pulled</th>\n",
       "    </tr>\n",
       "  </thead>\n",
       "  <tbody>\n",
       "    <tr>\n",
       "      <th>2428</th>\n",
       "      <td>may_mobility</td>\n",
       "      <td>A rolling snapshot of data collected by the co...</td>\n",
       "      <td>JSON</td>\n",
       "      <td>Sep 30, 2019 7:47 AM (Last Ingested)</td>\n",
       "      <td>Sep 30, 2019</td>\n",
       "      <td>Connected Electric Autonomous Vehicle Locations</td>\n",
       "      <td>https://discovery.smartcolumbusos.com/dataset/...</td>\n",
       "      <td>2019-11-06</td>\n",
       "    </tr>\n",
       "    <tr>\n",
       "      <th>2429</th>\n",
       "      <td>may_mobility</td>\n",
       "      <td>A rolling snapshot of data collected by the co...</td>\n",
       "      <td>JSON</td>\n",
       "      <td>Sep 30, 2019 7:47 AM (Last Ingested)</td>\n",
       "      <td>Sep 30, 2019</td>\n",
       "      <td>Connected Electric Autonomous Vehicle Locations</td>\n",
       "      <td>https://discovery.smartcolumbusos.com/dataset/...</td>\n",
       "      <td>2019-11-06</td>\n",
       "    </tr>\n",
       "    <tr>\n",
       "      <th>2430</th>\n",
       "      <td>central_ohio_transit_authority</td>\n",
       "      <td>This dataset identifies unlinked passenger tri...</td>\n",
       "      <td>CSV</td>\n",
       "      <td>Sep 3, 2019 (Last updated by provider)</td>\n",
       "      <td>Sep 3, 2019</td>\n",
       "      <td>COTA Unlinked Passenger Trips Data for Saturda...</td>\n",
       "      <td>https://discovery.smartcolumbusos.com/dataset/...</td>\n",
       "      <td>2019-11-06</td>\n",
       "    </tr>\n",
       "    <tr>\n",
       "      <th>2434</th>\n",
       "      <td>central_ohio_transit_authority</td>\n",
       "      <td>This dataset identifies unlinked passenger tri...</td>\n",
       "      <td>CSV</td>\n",
       "      <td>Sep 3, 2019 (Last updated by provider)</td>\n",
       "      <td>Sep 3, 2019</td>\n",
       "      <td>COTA Unlinked Passenger Trips Data for Sunday ...</td>\n",
       "      <td>https://discovery.smartcolumbusos.com/dataset/...</td>\n",
       "      <td>2019-11-06</td>\n",
       "    </tr>\n",
       "    <tr>\n",
       "      <th>2435</th>\n",
       "      <td>central_ohio_transit_authority</td>\n",
       "      <td>This dataset identifies unlinked passenger tri...</td>\n",
       "      <td>CSV</td>\n",
       "      <td>Sep 3, 2019 (Last updated by provider)</td>\n",
       "      <td>Sep 3, 2019</td>\n",
       "      <td>COTA Unlinked Passenger Trips Data for Weekday...</td>\n",
       "      <td>https://discovery.smartcolumbusos.com/dataset/...</td>\n",
       "      <td>2019-11-06</td>\n",
       "    </tr>\n",
       "  </tbody>\n",
       "</table>\n",
       "</div>"
      ],
      "text/plain": [
       "                              Agency                                        Description File Type                      Last Modified Date Last Modified Date New                                              Title                                                URL date pulled\n",
       "2428                    may_mobility  A rolling snapshot of data collected by the co...      JSON    Sep 30, 2019 7:47 AM (Last Ingested)           Sep 30, 2019    Connected Electric Autonomous Vehicle Locations  https://discovery.smartcolumbusos.com/dataset/...  2019-11-06\n",
       "2429                    may_mobility  A rolling snapshot of data collected by the co...      JSON    Sep 30, 2019 7:47 AM (Last Ingested)           Sep 30, 2019    Connected Electric Autonomous Vehicle Locations  https://discovery.smartcolumbusos.com/dataset/...  2019-11-06\n",
       "2430  central_ohio_transit_authority  This dataset identifies unlinked passenger tri...       CSV  Sep 3, 2019 (Last updated by provider)           Sep 3, 2019   COTA Unlinked Passenger Trips Data for Saturda...  https://discovery.smartcolumbusos.com/dataset/...  2019-11-06\n",
       "2434  central_ohio_transit_authority  This dataset identifies unlinked passenger tri...       CSV  Sep 3, 2019 (Last updated by provider)           Sep 3, 2019   COTA Unlinked Passenger Trips Data for Sunday ...  https://discovery.smartcolumbusos.com/dataset/...  2019-11-06\n",
       "2435  central_ohio_transit_authority  This dataset identifies unlinked passenger tri...       CSV  Sep 3, 2019 (Last updated by provider)           Sep 3, 2019   COTA Unlinked Passenger Trips Data for Weekday...  https://discovery.smartcolumbusos.com/dataset/...  2019-11-06"
      ]
     },
     "execution_count": 121,
     "metadata": {},
     "output_type": "execute_result"
    }
   ],
   "source": [
    "df.sort_values(\"Last Modified Date New\", ascending=False).head()"
   ]
  },
  {
   "cell_type": "code",
   "execution_count": 107,
   "metadata": {},
   "outputs": [],
   "source": [
    "df.to_excel(\"Smart Columbus API data sources.xlsx\", index=False)"
   ]
  }
 ],
 "metadata": {
  "kernelspec": {
   "display_name": "Python 3",
   "language": "python",
   "name": "python3"
  },
  "language_info": {
   "codemirror_mode": {
    "name": "ipython",
    "version": 3
   },
   "file_extension": ".py",
   "mimetype": "text/x-python",
   "name": "python",
   "nbconvert_exporter": "python",
   "pygments_lexer": "ipython3",
   "version": "3.7.1"
  }
 },
 "nbformat": 4,
 "nbformat_minor": 2
}
